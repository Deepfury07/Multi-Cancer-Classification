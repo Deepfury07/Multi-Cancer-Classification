{
 "cells": [
  {
   "cell_type": "code",
   "execution_count": 1,
   "metadata": {},
   "outputs": [],
   "source": [
    "import os\n",
    "import pandas as pd\n",
    "import numpy as np\n",
    "import tensorflow as tf\n",
    "from tensorflow.keras.preprocessing.image import ImageDataGenerator\n",
    "from sklearn.model_selection import train_test_split\n",
    "\n",
    "# Set the dataset directory\n",
    "data_dir = 'D:/Capestone Dataset/Multi Cancer/Multi Cancer'\n"
   ]
  },
  {
   "cell_type": "code",
   "execution_count": 2,
   "metadata": {},
   "outputs": [],
   "source": [
    "\n",
    "# Extract file paths and labels\n",
    "filepaths, main_labels, subclass_labels = [], [], []\n",
    "\n",
    "for main_cancer in os.listdir(data_dir):  \n",
    "    main_cancer_path = os.path.join(data_dir, main_cancer)\n",
    "    \n",
    "    if os.path.isdir(main_cancer_path):\n",
    "        for subclass in os.listdir(main_cancer_path):\n",
    "            subclass_path = os.path.join(main_cancer_path, subclass)\n",
    "            \n",
    "            if os.path.isdir(subclass_path):\n",
    "                for img_name in os.listdir(subclass_path):\n",
    "                    if img_name.lower().endswith(('png', 'jpg', 'jpeg')):\n",
    "                        filepaths.append(os.path.join(subclass_path, img_name))\n",
    "                        main_labels.append(main_cancer)  # Main cancer type\n",
    "                        subclass_labels.append(subclass)  # Subclass\n"
   ]
  },
  {
   "cell_type": "code",
   "execution_count": 3,
   "metadata": {},
   "outputs": [],
   "source": [
    "\n",
    "# Create a DataFrame\n",
    "df = pd.DataFrame({'filepath': filepaths, 'main_type': main_labels, 'subclass': subclass_labels})\n"
   ]
  },
  {
   "cell_type": "code",
   "execution_count": 4,
   "metadata": {},
   "outputs": [],
   "source": [
    "\n",
    "# Split data into training & validation\n",
    "train_df, val_df = train_test_split(df, test_size=0.2, stratify=df[['main_type', 'subclass']], random_state=42)\n",
    "\n",
    "# Define ImageDataGenerator\n",
    "datagen = ImageDataGenerator(rescale=1./255)\n"
   ]
  },
  {
   "cell_type": "code",
   "execution_count": 5,
   "metadata": {},
   "outputs": [
    {
     "name": "stdout",
     "output_type": "stream",
     "text": [
      "Found 104001 validated image filenames belonging to 8 classes.\n",
      "Found 26001 validated image filenames belonging to 8 classes.\n",
      "Found 104001 validated image filenames belonging to 26 classes.\n",
      "Found 26001 validated image filenames belonging to 26 classes.\n",
      "Data successfully loaded!\n"
     ]
    }
   ],
   "source": [
    "\n",
    "# Create data generators for training main cancer type classification\n",
    "train_gen_main = datagen.flow_from_dataframe(\n",
    "    train_df, x_col='filepath', y_col='main_type',\n",
    "    target_size=(512, 512), batch_size=8, class_mode='categorical'\n",
    ")\n",
    "\n",
    "val_gen_main = datagen.flow_from_dataframe(\n",
    "    val_df, x_col='filepath', y_col='main_type',\n",
    "    target_size=(512, 512), batch_size=8, class_mode='categorical'\n",
    ")\n",
    "\n",
    "# Create data generators for training subclass classification\n",
    "train_gen_subclass = datagen.flow_from_dataframe(\n",
    "    train_df, x_col='filepath', y_col='subclass',\n",
    "    target_size=(512, 512), batch_size=8, class_mode='categorical'\n",
    ")\n",
    "\n",
    "val_gen_subclass = datagen.flow_from_dataframe(\n",
    "    val_df, x_col='filepath', y_col='subclass',\n",
    "    target_size=(512, 512), batch_size=8, class_mode='categorical'\n",
    ")\n",
    "\n",
    "print(\"Data successfully loaded!\")\n"
   ]
  },
  {
   "cell_type": "code",
   "execution_count": 6,
   "metadata": {},
   "outputs": [
    {
     "name": "stderr",
     "output_type": "stream",
     "text": [
      "c:\\Users\\deepp\\AppData\\Local\\Programs\\Python\\Python312\\Lib\\site-packages\\keras\\src\\layers\\convolutional\\base_conv.py:107: UserWarning: Do not pass an `input_shape`/`input_dim` argument to a layer. When using Sequential models, prefer using an `Input(shape)` object as the first layer in the model instead.\n",
      "  super().__init__(activity_regularizer=activity_regularizer, **kwargs)\n"
     ]
    }
   ],
   "source": [
    "from tensorflow.keras.models import Sequential\n",
    "from tensorflow.keras.layers import Conv2D, MaxPooling2D, Flatten, Dense, BatchNormalization, Dropout\n",
    "from tensorflow.keras.optimizers import Adamax\n",
    "\n",
    "# CNN Model for Main Cancer Type Classification (8 classes)\n",
    "model_main = Sequential([\n",
    "    # Convolutional Layers\n",
    "    Conv2D(32, (3,3), activation='relu', input_shape=(512, 512, 3)),\n",
    "    MaxPooling2D(pool_size=(2,2)),\n",
    "    BatchNormalization(),\n",
    "\n",
    "    Conv2D(64, (3,3), activation='relu'),\n",
    "    MaxPooling2D(pool_size=(2,2)),\n",
    "    BatchNormalization(),\n",
    "\n",
    "    Conv2D(128, (3,3), activation='relu'),\n",
    "    MaxPooling2D(pool_size=(2,2)),\n",
    "    BatchNormalization(),\n",
    "\n",
    "    Conv2D(256, (3,3), activation='relu'),\n",
    "    MaxPooling2D(pool_size=(2,2)),\n",
    "    BatchNormalization(),\n",
    "\n",
    "    # Flatten & Fully Connected Layers\n",
    "    Flatten(),\n",
    "    Dense(512, activation='relu'),\n",
    "    Dropout(0.3),\n",
    "    \n",
    "    Dense(8, activation='softmax')  # 8 Main Cancer Types\n",
    "])\n",
    "\n",
    "# Compile Model\n",
    "model_main.compile(optimizer=Adamax(learning_rate=0.001),\n",
    "                loss='categorical_crossentropy',\n",
    "                metrics=['accuracy'])\n"
   ]
  },
  {
   "cell_type": "code",
   "execution_count": 7,
   "metadata": {},
   "outputs": [
    {
     "name": "stderr",
     "output_type": "stream",
     "text": [
      "c:\\Users\\deepp\\AppData\\Local\\Programs\\Python\\Python312\\Lib\\site-packages\\keras\\src\\trainers\\data_adapters\\py_dataset_adapter.py:121: UserWarning: Your `PyDataset` class should call `super().__init__(**kwargs)` in its constructor. `**kwargs` can include `workers`, `use_multiprocessing`, `max_queue_size`. Do not pass these arguments to `fit()`, as they will be ignored.\n",
      "  self._warn_if_super_not_called()\n"
     ]
    },
    {
     "name": "stdout",
     "output_type": "stream",
     "text": [
      "Epoch 1/20\n",
      "\u001b[1m13001/13001\u001b[0m \u001b[32m━━━━━━━━━━━━━━━━━━━━\u001b[0m\u001b[37m\u001b[0m \u001b[1m31541s\u001b[0m 2s/step - accuracy: 0.9023 - loss: 7.8755 - val_accuracy: 0.9842 - val_loss: 0.1128\n",
      "Epoch 2/20\n",
      "\u001b[1m13001/13001\u001b[0m \u001b[32m━━━━━━━━━━━━━━━━━━━━\u001b[0m\u001b[37m\u001b[0m \u001b[1m31815s\u001b[0m 2s/step - accuracy: 0.9586 - loss: 0.6513 - val_accuracy: 0.9820 - val_loss: 0.2160\n",
      "Epoch 3/20\n",
      "\u001b[1m13001/13001\u001b[0m \u001b[32m━━━━━━━━━━━━━━━━━━━━\u001b[0m\u001b[37m\u001b[0m \u001b[1m31972s\u001b[0m 2s/step - accuracy: 0.9721 - loss: 0.2205 - val_accuracy: 0.9938 - val_loss: 0.0530\n",
      "Epoch 4/20\n",
      "\u001b[1m13001/13001\u001b[0m \u001b[32m━━━━━━━━━━━━━━━━━━━━\u001b[0m\u001b[37m\u001b[0m \u001b[1m31795s\u001b[0m 2s/step - accuracy: 0.9808 - loss: 0.1968 - val_accuracy: 0.9965 - val_loss: 0.0236\n",
      "Epoch 5/20\n",
      "\u001b[1m13001/13001\u001b[0m \u001b[32m━━━━━━━━━━━━━━━━━━━━\u001b[0m\u001b[37m\u001b[0m \u001b[1m31884s\u001b[0m 2s/step - accuracy: 0.9856 - loss: 0.0752 - val_accuracy: 0.9806 - val_loss: 0.3517\n",
      "Epoch 6/20\n",
      "\u001b[1m13001/13001\u001b[0m \u001b[32m━━━━━━━━━━━━━━━━━━━━\u001b[0m\u001b[37m\u001b[0m \u001b[1m31792s\u001b[0m 2s/step - accuracy: 0.9879 - loss: 0.1085 - val_accuracy: 0.9938 - val_loss: 0.2081\n",
      "Epoch 7/20\n",
      "\u001b[1m13001/13001\u001b[0m \u001b[32m━━━━━━━━━━━━━━━━━━━━\u001b[0m\u001b[37m\u001b[0m \u001b[1m31793s\u001b[0m 2s/step - accuracy: 0.9897 - loss: 0.0812 - val_accuracy: 0.9963 - val_loss: 0.1183\n",
      "Epoch 8/20\n",
      "\u001b[1m13001/13001\u001b[0m \u001b[32m━━━━━━━━━━━━━━━━━━━━\u001b[0m\u001b[37m\u001b[0m \u001b[1m31710s\u001b[0m 2s/step - accuracy: 0.9896 - loss: 0.0581 - val_accuracy: 0.9962 - val_loss: 0.0807\n",
      "Epoch 9/20\n",
      "\u001b[1m13001/13001\u001b[0m \u001b[32m━━━━━━━━━━━━━━━━━━━━\u001b[0m\u001b[37m\u001b[0m \u001b[1m31635s\u001b[0m 2s/step - accuracy: 0.9930 - loss: 0.0380 - val_accuracy: 0.9975 - val_loss: 0.1209\n",
      "Epoch 10/20\n",
      "\u001b[1m13001/13001\u001b[0m \u001b[32m━━━━━━━━━━━━━━━━━━━━\u001b[0m\u001b[37m\u001b[0m \u001b[1m31833s\u001b[0m 2s/step - accuracy: 0.9931 - loss: 0.0399 - val_accuracy: 0.9956 - val_loss: 0.0936\n",
      "Epoch 11/20\n",
      "\u001b[1m13001/13001\u001b[0m \u001b[32m━━━━━━━━━━━━━━━━━━━━\u001b[0m\u001b[37m\u001b[0m \u001b[1m31920s\u001b[0m 2s/step - accuracy: 0.9935 - loss: 0.0383 - val_accuracy: 0.9965 - val_loss: 0.0590\n",
      "Epoch 12/20\n",
      "\u001b[1m13001/13001\u001b[0m \u001b[32m━━━━━━━━━━━━━━━━━━━━\u001b[0m\u001b[37m\u001b[0m \u001b[1m32177s\u001b[0m 2s/step - accuracy: 0.9942 - loss: 0.0384 - val_accuracy: 0.9970 - val_loss: 0.0868\n",
      "Epoch 13/20\n",
      "\u001b[1m13001/13001\u001b[0m \u001b[32m━━━━━━━━━━━━━━━━━━━━\u001b[0m\u001b[37m\u001b[0m \u001b[1m32236s\u001b[0m 2s/step - accuracy: 0.9951 - loss: 0.0335 - val_accuracy: 0.9980 - val_loss: 0.0296\n",
      "Epoch 14/20\n",
      "\u001b[1m13001/13001\u001b[0m \u001b[32m━━━━━━━━━━━━━━━━━━━━\u001b[0m\u001b[37m\u001b[0m \u001b[1m32134s\u001b[0m 2s/step - accuracy: 0.9956 - loss: 0.0297 - val_accuracy: 0.9977 - val_loss: 0.2248\n",
      "Epoch 15/20\n",
      "\u001b[1m13001/13001\u001b[0m \u001b[32m━━━━━━━━━━━━━━━━━━━━\u001b[0m\u001b[37m\u001b[0m \u001b[1m32260s\u001b[0m 2s/step - accuracy: 0.9957 - loss: 0.0336 - val_accuracy: 0.9883 - val_loss: 0.1644\n",
      "Epoch 16/20\n",
      "\u001b[1m13001/13001\u001b[0m \u001b[32m━━━━━━━━━━━━━━━━━━━━\u001b[0m\u001b[37m\u001b[0m \u001b[1m32390s\u001b[0m 2s/step - accuracy: 0.9953 - loss: 0.0366 - val_accuracy: 0.9983 - val_loss: 0.0925\n",
      "Epoch 17/20\n",
      "\u001b[1m13001/13001\u001b[0m \u001b[32m━━━━━━━━━━━━━━━━━━━━\u001b[0m\u001b[37m\u001b[0m \u001b[1m32332s\u001b[0m 2s/step - accuracy: 0.9962 - loss: 0.0310 - val_accuracy: 0.9972 - val_loss: 0.1677\n",
      "Epoch 18/20\n",
      "\u001b[1m13001/13001\u001b[0m \u001b[32m━━━━━━━━━━━━━━━━━━━━\u001b[0m\u001b[37m\u001b[0m \u001b[1m40017s\u001b[0m 3s/step - accuracy: 0.9960 - loss: 0.0359 - val_accuracy: 0.9972 - val_loss: 0.3665\n",
      "Epoch 19/20\n",
      "\u001b[1m13001/13001\u001b[0m \u001b[32m━━━━━━━━━━━━━━━━━━━━\u001b[0m\u001b[37m\u001b[0m \u001b[1m32293s\u001b[0m 2s/step - accuracy: 0.9956 - loss: 0.0293 - val_accuracy: 0.9961 - val_loss: 0.0727\n",
      "Epoch 20/20\n",
      "\u001b[1m13001/13001\u001b[0m \u001b[32m━━━━━━━━━━━━━━━━━━━━\u001b[0m\u001b[37m\u001b[0m \u001b[1m32336s\u001b[0m 2s/step - accuracy: 0.9970 - loss: 0.0214 - val_accuracy: 0.9967 - val_loss: 0.0878\n"
     ]
    },
    {
     "data": {
      "text/plain": [
       "<keras.src.callbacks.history.History at 0x1b0dd45aea0>"
      ]
     },
     "execution_count": 7,
     "metadata": {},
     "output_type": "execute_result"
    }
   ],
   "source": [
    "\n",
    "# Train Model\n",
    "model_main.fit(train_gen_main, validation_data=val_gen_main, epochs=20)\n"
   ]
  },
  {
   "cell_type": "code",
   "execution_count": 9,
   "metadata": {},
   "outputs": [
    {
     "name": "stderr",
     "output_type": "stream",
     "text": [
      "WARNING:absl:You are saving your model as an HDF5 file via `model.save()` or `keras.saving.save_model(model)`. This file format is considered legacy. We recommend using instead the native Keras format, e.g. `model.save('my_model.keras')` or `keras.saving.save_model(model, 'my_model.keras')`. \n"
     ]
    }
   ],
   "source": [
    "model_main.save(\"cancer_main_model.h5\")"
   ]
  }
 ],
 "metadata": {
  "kernelspec": {
   "display_name": "Python 3",
   "language": "python",
   "name": "python3"
  },
  "language_info": {
   "codemirror_mode": {
    "name": "ipython",
    "version": 3
   },
   "file_extension": ".py",
   "mimetype": "text/x-python",
   "name": "python",
   "nbconvert_exporter": "python",
   "pygments_lexer": "ipython3",
   "version": "3.12.8"
  }
 },
 "nbformat": 4,
 "nbformat_minor": 2
}
